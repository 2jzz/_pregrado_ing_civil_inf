{
 "cells": [
  {
   "cell_type": "code",
   "execution_count": 1,
   "metadata": {},
   "outputs": [
    {
     "name": "stderr",
     "output_type": "stream",
     "text": [
      "c:\\Users\\Phine\\AppData\\Local\\Programs\\Python\\Python310\\lib\\site-packages\\tqdm\\auto.py:21: TqdmWarning: IProgress not found. Please update jupyter and ipywidgets. See https://ipywidgets.readthedocs.io/en/stable/user_install.html\n",
      "  from .autonotebook import tqdm as notebook_tqdm\n"
     ]
    }
   ],
   "source": [
    "import pandas as pd\n",
    "import numpy as np\n",
    "import matplotlib.pyplot as plt\n",
    "\n",
    "import os\n",
    "\n",
    "from sklearn.model_selection import train_test_split\n",
    "from keras.models import load_model\n",
    "\n",
    "import shap"
   ]
  },
  {
   "cell_type": "code",
   "execution_count": 2,
   "metadata": {},
   "outputs": [],
   "source": [
    "x = pd.read_csv(\"../../../Datos/Procesados/x_values.csv\", dtype = int)\n",
    "y_cdm = pd.read_csv(\"../../../Datos/Procesados/y_dummies_cdm.csv\", dtype = int)\n",
    "y_grdt = pd.read_csv(\"../../../Datos/Procesados/y_dummies_grdtipo.csv\", dtype = int)\n",
    "y_grd = pd.read_csv(\"../../../Datos/Procesados/y_dummies_grd.csv\", dtype = int)\n",
    "y_sev = pd.read_csv(\"../../../Datos/Procesados/y_dummies_sev.csv\", dtype = int)"
   ]
  },
  {
   "cell_type": "code",
   "execution_count": 3,
   "metadata": {},
   "outputs": [],
   "source": [
    "master = 3\n",
    "y = [y_cdm, y_grd, y_grdt, y_sev]\n",
    "y_str = ['CDM', 'GRD', 'GRDT', 'SEV']\n",
    "path_ = f\"SHAP Datos/{y_str[master]}/shap_values_{y_str[master]}_datasize_0.0075.csv\""
   ]
  },
  {
   "cell_type": "code",
   "execution_count": 4,
   "metadata": {},
   "outputs": [],
   "source": [
    "# Leer el archivo CSV y convertirlo en un DataFrame de pandas\n",
    "shap_values_read = pd.read_csv(path_)\n",
    "\n",
    "# Leer las dimensiones originales desde el archivo de texto\n",
    "with open(f\"SHAP Datos/{y_str[master]}/shap_values_{y_str[master]}_dimensions.txt\", \"r\") as f:\n",
    "    dimensions = tuple(map(int, f.read().split(\",\")))\n",
    "\n",
    "# Convertir el DataFrame de pandas en una matriz numpy y remodelar a su forma original de 3 dimensiones\n",
    "shap_values = shap_values_read.values.reshape(dimensions)\n"
   ]
  },
  {
   "cell_type": "code",
   "execution_count": 5,
   "metadata": {},
   "outputs": [],
   "source": [
    "x_train, x_test, y_train, y_test = train_test_split(x, y[master], train_size= 0.0075, test_size = 0.0075, random_state = 0, stratify = y[master])"
   ]
  },
  {
   "cell_type": "code",
   "execution_count": 6,
   "metadata": {},
   "outputs": [],
   "source": [
    "shap_values_converted = [shap_values[i] for i in range(shap_values.shape[0])]"
   ]
  },
  {
   "cell_type": "code",
   "execution_count": 10,
   "metadata": {},
   "outputs": [],
   "source": [
    "type_plot = 'BAR PLOT'\n",
    "\n",
    "# Establecer la cantidad de gráficos y el número de filas aleatorias\n",
    "n_plots = 500\n",
    "n_random_rows = 500\n",
    "\n",
    "# Establecer la semilla para garantizar resultados consistentes\n",
    "np.random.seed(42)\n",
    "\n",
    "for i, class_shap_values in enumerate(shap_values):\n",
    "    \n",
    "    if i not in  [8]:\n",
    "        continue\n",
    "\n",
    "    # Generar índices aleatorios\n",
    "    random_indices = np.random.choice(shap_values_converted[i].shape[0], n_random_rows, replace=False)\n",
    "    for j in range(n_plots):\n",
    "        # Seleccionar una fila aleatoria de los valores SHAP\n",
    "        random_shap_values = class_shap_values[random_indices[j], :]\n",
    "\n",
    "        # Crear una figura para cada clase\n",
    "        plt.figure(figsize = [18, 18], dpi = 160)\n",
    "\n",
    "        # Generar el bar_plot para la clase actual y el valor SHAP seleccionado\n",
    "        shap.bar_plot(\n",
    "            random_shap_values,\n",
    "            feature_names=x_train.columns,\n",
    "            max_display=25,\n",
    "            show=False  # Establecer en False para evitar que se muestre la trama en la ventana de salida\n",
    "        )\n",
    "\n",
    "        # Guardar cada gráfico en un archivo separado\n",
    "        output_folder = f\"../../../Visualización de datos/SHAP/{y_str[master]}/{type_plot}/{y_train.columns[i]}\"\n",
    "        if not os.path.exists(output_folder):\n",
    "            os.makedirs(output_folder)\n",
    "        plt.savefig(f\"{output_folder}/bar_plot_value_{j}.png\")\n",
    "\n",
    "        # Cerrar la figura para liberar memoria\n",
    "        plt.close()"
   ]
  },
  {
   "cell_type": "code",
   "execution_count": 8,
   "metadata": {},
   "outputs": [],
   "source": [
    "# type_plot = 'SUMMARY PLOT'\n",
    "\n",
    "# # Iterar sobre la lista de shap_values (cada elemento corresponde a una clase)\n",
    "# for i, class_shap_values in enumerate(shap_values_converted):\n",
    "#     # Crear una figura para cada clase\n",
    "#     plt.figure()\n",
    "\n",
    "#     # Generar el summary_plot para la clase actual\n",
    "#     fig = shap.summary_plot(\n",
    "#         class_shap_values,\n",
    "#         x_test,\n",
    "#         feature_names=x_train.columns,\n",
    "#         class_names=y_train.columns,\n",
    "#         plot_size=(32, 32),\n",
    "#         max_display=68,\n",
    "#         title=f\"Clase {i}: {y_train.columns[i]}\",\n",
    "#         show = False\n",
    "#     )\n",
    "\n",
    "#     # Guardar cada gráfico en un archivo separado\n",
    "#     output_folder = f\"../../../Visualización de datos/SHAP/{y_str[master]}/{type_plot}\"\n",
    "#     if not os.path.exists(output_folder):\n",
    "#         os.makedirs(output_folder)\n",
    "#     plt.savefig(f\"{output_folder}/summary_plot_class_{y_train.columns[i]}.png\")\n",
    "\n",
    "#     # Cerrar la figura para liberar memoria\n",
    "#     plt.close()\n"
   ]
  },
  {
   "cell_type": "code",
   "execution_count": 9,
   "metadata": {},
   "outputs": [],
   "source": [
    "# shap.summary_plot(\n",
    "#     shap_values_converted, \n",
    "#     x_test, \n",
    "#     feature_names=x_test.columns, \n",
    "#     class_names = y_train.columns, \n",
    "#     plot_size = (32, 32), \n",
    "#     max_display = 68)"
   ]
  }
 ],
 "metadata": {
  "kernelspec": {
   "display_name": "Python 3",
   "language": "python",
   "name": "python3"
  },
  "language_info": {
   "codemirror_mode": {
    "name": "ipython",
    "version": 3
   },
   "file_extension": ".py",
   "mimetype": "text/x-python",
   "name": "python",
   "nbconvert_exporter": "python",
   "pygments_lexer": "ipython3",
   "version": "3.10.10"
  },
  "orig_nbformat": 4
 },
 "nbformat": 4,
 "nbformat_minor": 2
}
