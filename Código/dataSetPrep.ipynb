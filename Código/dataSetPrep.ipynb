{
 "cells": [
  {
   "cell_type": "code",
   "execution_count": null,
   "metadata": {},
   "outputs": [],
   "source": [
    "import pandas as pd"
   ]
  },
  {
   "cell_type": "code",
   "execution_count": null,
   "metadata": {},
   "outputs": [],
   "source": [
    "df1 = pd.read_csv('../../../Datos/Brutos/GRD_PUBLICO_2019.txt', sep = '|', dtype = str)\n",
    "df2 = pd.read_csv('../../../Datos/Brutos/GRD_PUBLICO_2020.txt', sep = '|', dtype = str)\n",
    "df3 = pd.DataFrame()\n",
    "\n",
    "# Acá insertar la ruta de los dataset obtenidos de FONASA, no deben tener ningun procesamiento para que este script se ejecute correctamente\n",
    "\n",
    "# https://www.fonasa.cl/sites/fonasa/datos-abiertos/bases-grd"
   ]
  },
  {
   "cell_type": "code",
   "execution_count": null,
   "metadata": {},
   "outputs": [],
   "source": [
    "cols = [\n",
    "    'SEXO', 'FECHA_NACIMIENTO', 'FECHAALTA',\n",
    "    'DIAGNOSTICO1', 'DIAGNOSTICO2', 'DIAGNOSTICO3', 'DIAGNOSTICO4', 'DIAGNOSTICO5', 'DIAGNOSTICO6', 'DIAGNOSTICO7', 'DIAGNOSTICO8', 'DIAGNOSTICO9', 'DIAGNOSTICO10',\n",
    "    'DIAGNOSTICO11','DIAGNOSTICO12','DIAGNOSTICO13','DIAGNOSTICO14','DIAGNOSTICO15','DIAGNOSTICO16','DIAGNOSTICO17','DIAGNOSTICO18','DIAGNOSTICO19','DIAGNOSTICO20',\n",
    "    'DIAGNOSTICO21','DIAGNOSTICO22','DIAGNOSTICO23','DIAGNOSTICO24','DIAGNOSTICO25','DIAGNOSTICO26','DIAGNOSTICO27','DIAGNOSTICO28','DIAGNOSTICO29','DIAGNOSTICO30',\n",
    "    \"DIAGNOSTICO31\",\"DIAGNOSTICO32\",\"DIAGNOSTICO33\",\"DIAGNOSTICO34\",\"DIAGNOSTICO35\",\n",
    "    'PROCEDIMIENTO1','PROCEDIMIENTO2','PROCEDIMIENTO3','PROCEDIMIENTO4','PROCEDIMIENTO5','PROCEDIMIENTO6','PROCEDIMIENTO7','PROCEDIMIENTO8','PROCEDIMIENTO9','PROCEDIMIENTO10',\n",
    "    'PROCEDIMIENTO11','PROCEDIMIENTO12','PROCEDIMIENTO13','PROCEDIMIENTO14','PROCEDIMIENTO15','PROCEDIMIENTO16','PROCEDIMIENTO17','PROCEDIMIENTO18','PROCEDIMIENTO19','PROCEDIMIENTO20',\n",
    "    'PROCEDIMIENTO21','PROCEDIMIENTO22','PROCEDIMIENTO23','PROCEDIMIENTO24','PROCEDIMIENTO25','PROCEDIMIENTO26','PROCEDIMIENTO27','PROCEDIMIENTO28','PROCEDIMIENTO29','PROCEDIMIENTO30',\n",
    "    'IR_29301_COD_GRD'\n",
    "]"
   ]
  },
  {
   "cell_type": "code",
   "execution_count": null,
   "metadata": {},
   "outputs": [],
   "source": [
    "df3 = pd.concat([df1[cols], df2[cols]])"
   ]
  },
  {
   "cell_type": "code",
   "execution_count": null,
   "metadata": {},
   "outputs": [],
   "source": [
    "df3.replace(to_replace = ['DESCONOCIDO', '--'], value = None, inplace = True)\n",
    "df3.dropna(subset = ['SEXO','FECHA_NACIMIENTO', 'FECHAALTA','DIAGNOSTICO1','PROCEDIMIENTO1','IR_29301_COD_GRD'], inplace = True)\n",
    "df3.reset_index(inplace = True)"
   ]
  },
  {
   "cell_type": "code",
   "execution_count": null,
   "metadata": {},
   "outputs": [],
   "source": [
    "import matplotlib.pyplot as plt\n",
    "\n",
    "# asumiendo que 'df' es tu DataFrame\n",
    "non_null_counts = df3.count()"
   ]
  },
  {
   "cell_type": "code",
   "execution_count": null,
   "metadata": {},
   "outputs": [],
   "source": [
    "# plt.figure(figsize=(15, 15), dpi = 300)\n",
    "# plt.bar(non_null_counts.index, non_null_counts.values)\n",
    "# plt.xticks(rotation=90)  # rotar los nombres de las columnas para una mejor visualización\n",
    "# plt.title('Cantidad de valores no nulos por columna')\n",
    "# plt.xlabel('Columnas')\n",
    "# plt.ylabel('Cantidad de valores no nulos')\n",
    "# plt.show()"
   ]
  },
  {
   "cell_type": "code",
   "execution_count": null,
   "metadata": {},
   "outputs": [],
   "source": [
    "df3.insert(loc = len(df3.columns), column = 'CDM', value = df3['IR_29301_COD_GRD'].str[0:2])\n",
    "df3.insert(loc = len(df3.columns), column = 'GRDTIPO', value = df3['IR_29301_COD_GRD'].str[2:3])\n",
    "df3.insert(loc = len(df3.columns), column = 'GRD', value = df3['IR_29301_COD_GRD'].str[3:5])\n",
    "df3.insert(loc = len(df3.columns), column = 'SEVERIDAD', value = df3['IR_29301_COD_GRD'].str[5])"
   ]
  },
  {
   "cell_type": "code",
   "execution_count": null,
   "metadata": {},
   "outputs": [],
   "source": [
    "from datetime import datetime\n",
    "\n",
    "def age(vec):\n",
    "    born = datetime.strptime(vec[0], \"%Y-%m-%d\").date()\n",
    "    today = datetime.strptime(vec[1], \"%Y-%m-%d\").date()\n",
    "    return today.year - born.year - ((today.month, \n",
    "                                      today.day) < (born.month, \n",
    "                                                    born.day))"
   ]
  },
  {
   "cell_type": "code",
   "execution_count": null,
   "metadata": {},
   "outputs": [],
   "source": [
    "df3['FECHA_NACIMIENTO'] = df3[['FECHA_NACIMIENTO', 'FECHAALTA']].apply(age, axis = 1)"
   ]
  },
  {
   "cell_type": "code",
   "execution_count": null,
   "metadata": {},
   "outputs": [],
   "source": [
    "df3 = df3.drop('FECHAALTA', axis = 1)"
   ]
  },
  {
   "cell_type": "code",
   "execution_count": null,
   "metadata": {},
   "outputs": [],
   "source": [
    "cols = [\n",
    "    'SEXO', 'FECHA_NACIMIENTO',\n",
    "    'DIAGNOSTICO1', 'DIAGNOSTICO2', 'DIAGNOSTICO3', 'DIAGNOSTICO4', 'DIAGNOSTICO5', 'DIAGNOSTICO6', 'DIAGNOSTICO7', 'DIAGNOSTICO8', 'DIAGNOSTICO9', 'DIAGNOSTICO10',\n",
    "    'DIAGNOSTICO11','DIAGNOSTICO12','DIAGNOSTICO13','DIAGNOSTICO14','DIAGNOSTICO15','DIAGNOSTICO16','DIAGNOSTICO17','DIAGNOSTICO18','DIAGNOSTICO19','DIAGNOSTICO20',\n",
    "    'DIAGNOSTICO21','DIAGNOSTICO22','DIAGNOSTICO23','DIAGNOSTICO24','DIAGNOSTICO25','DIAGNOSTICO26','DIAGNOSTICO27','DIAGNOSTICO28','DIAGNOSTICO29','DIAGNOSTICO30',\n",
    "    \"DIAGNOSTICO31\",\"DIAGNOSTICO32\",\"DIAGNOSTICO33\",\"DIAGNOSTICO34\",\"DIAGNOSTICO35\",\n",
    "    'PROCEDIMIENTO1','PROCEDIMIENTO2','PROCEDIMIENTO3','PROCEDIMIENTO4','PROCEDIMIENTO5','PROCEDIMIENTO6','PROCEDIMIENTO7','PROCEDIMIENTO8','PROCEDIMIENTO9','PROCEDIMIENTO10',\n",
    "    'PROCEDIMIENTO11','PROCEDIMIENTO12','PROCEDIMIENTO13','PROCEDIMIENTO14','PROCEDIMIENTO15','PROCEDIMIENTO16','PROCEDIMIENTO17','PROCEDIMIENTO18','PROCEDIMIENTO19','PROCEDIMIENTO20',\n",
    "    'PROCEDIMIENTO21','PROCEDIMIENTO22','PROCEDIMIENTO23','PROCEDIMIENTO24','PROCEDIMIENTO25','PROCEDIMIENTO26','PROCEDIMIENTO27','PROCEDIMIENTO28','PROCEDIMIENTO29','PROCEDIMIENTO30',\n",
    "]"
   ]
  },
  {
   "cell_type": "code",
   "execution_count": null,
   "metadata": {},
   "outputs": [],
   "source": [
    "df3['FECHA_NACIMIENTO'].replace(to_replace = '-1', value = None, inplace = True)\n",
    "df3['CDM'].replace(to_replace = '99', value = None, inplace = True)\n",
    "df3['SEVERIDAD'].replace(to_replace = '9', value = None, inplace = True)\n",
    "df3.dropna(subset = ['CDM','GRDTIPO', 'SEVERIDAD', 'FECHA_NACIMIENTO'], inplace = True)\n",
    "df3.reset_index(inplace = True)"
   ]
  },
  {
   "cell_type": "code",
   "execution_count": null,
   "metadata": {},
   "outputs": [],
   "source": [
    "grds = [\n",
    "    'IR_29301_COD_GRD', 'CDM', 'GRDTIPO', 'GRD', 'SEVERIDAD'\n",
    "]"
   ]
  },
  {
   "cell_type": "code",
   "execution_count": null,
   "metadata": {},
   "outputs": [],
   "source": [
    "data = df3.astype(\"category\")"
   ]
  },
  {
   "cell_type": "code",
   "execution_count": null,
   "metadata": {},
   "outputs": [],
   "source": [
    "categorias_GRD = dict(zip( data['IR_29301_COD_GRD'].cat.codes, data['IR_29301_COD_GRD'] ))"
   ]
  },
  {
   "cell_type": "code",
   "execution_count": null,
   "metadata": {},
   "outputs": [],
   "source": [
    "import json\n",
    "\n",
    "salida = open(\"codes.json\",\"w\")\n",
    "salida.write(json.dumps(categorias_GRD))\n",
    "salida.close()\n",
    "codedf = pd.read_json(\"codes.json\",orient=\"index\")\n",
    "codedf.to_csv(\"codes.csv\",header=[\"GRD\"],index_label=\"codigo\")"
   ]
  },
  {
   "cell_type": "code",
   "execution_count": null,
   "metadata": {},
   "outputs": [],
   "source": [
    "x = data[cols]\n",
    "y_total     = data[grds]\n",
    "y_CDM       = data[['CDM']]\n",
    "y_GRDTIPO   = data[['GRDTIPO']]\n",
    "y_GRD       = data[['GRD']]\n",
    "y_SEVERIDAD = data[['SEVERIDAD']]"
   ]
  },
  {
   "cell_type": "code",
   "execution_count": null,
   "metadata": {},
   "outputs": [],
   "source": [
    "x = x.apply(lambda x: x.cat.codes)\n",
    "y_total_cat     = y_total.apply(lambda x: x.cat.codes)\n",
    "y_CDM_cat       = y_CDM.apply(lambda x: x.cat.codes)\n",
    "y_GRDTIPO_cat   = y_GRDTIPO.apply(lambda x: x.cat.codes)\n",
    "y_GRD_cat       = y_GRD.apply(lambda x: x.cat.codes)\n",
    "y_SEVERIDAD_cat = y_SEVERIDAD.apply(lambda x: x.cat.codes)"
   ]
  },
  {
   "cell_type": "code",
   "execution_count": null,
   "metadata": {},
   "outputs": [],
   "source": [
    "x_values = x.iloc[:, 0:69].to_numpy()"
   ]
  },
  {
   "cell_type": "code",
   "execution_count": null,
   "metadata": {},
   "outputs": [],
   "source": [
    "from sklearn.preprocessing import OneHotEncoder, LabelEncoder\n",
    "from sklearn.compose import ColumnTransformer\n",
    "\n",
    "labelEncoder_x = LabelEncoder()\n",
    "\n",
    "x_values[:, 0] = labelEncoder_x.fit_transform(x_values[:, 0])\n",
    "\n",
    "ct = ColumnTransformer(\n",
    "    [('one_hot_encoder', OneHotEncoder(categories='auto'), [0])], remainder='passthrough'\n",
    ")\n",
    "\n",
    "x_values = ct.fit_transform(x_values)"
   ]
  },
  {
   "cell_type": "code",
   "execution_count": null,
   "metadata": {},
   "outputs": [],
   "source": [
    "y_sev_dummies = pd.get_dummies(y_SEVERIDAD[\"SEVERIDAD\"].astype(int), columns = y_SEVERIDAD[\"SEVERIDAD\"].astype(int).unique(), dtype=int)\n",
    "y_cdm_dummies = pd.get_dummies(y_CDM[\"CDM\"].astype(int), columns = y_CDM[\"CDM\"].astype(int).unique(), dtype=int)\n",
    "y_grd_dummies = pd.get_dummies(y_GRD[\"GRD\"].astype(int), columns = y_GRD[\"GRD\"].astype(int).unique(), dtype=int)\n",
    "y_grdtipo_dummies = pd.get_dummies(y_GRDTIPO[\"GRDTIPO\"].astype(int), columns = y_GRDTIPO[\"GRDTIPO\"].astype(int).unique(), dtype=int)"
   ]
  },
  {
   "cell_type": "code",
   "execution_count": null,
   "metadata": {},
   "outputs": [],
   "source": [
    "new_cols = [\n",
    "    'SEXO1', 'SEXO2', 'FECHA_NACIMIENTO',\n",
    "    'DIAGNOSTICO1', 'DIAGNOSTICO2', 'DIAGNOSTICO3', 'DIAGNOSTICO4', 'DIAGNOSTICO5', 'DIAGNOSTICO6', 'DIAGNOSTICO7', 'DIAGNOSTICO8', 'DIAGNOSTICO9', 'DIAGNOSTICO10',\n",
    "    'DIAGNOSTICO11','DIAGNOSTICO12','DIAGNOSTICO13','DIAGNOSTICO14','DIAGNOSTICO15','DIAGNOSTICO16','DIAGNOSTICO17','DIAGNOSTICO18','DIAGNOSTICO19','DIAGNOSTICO20',\n",
    "    'DIAGNOSTICO21','DIAGNOSTICO22','DIAGNOSTICO23','DIAGNOSTICO24','DIAGNOSTICO25','DIAGNOSTICO26','DIAGNOSTICO27','DIAGNOSTICO28','DIAGNOSTICO29','DIAGNOSTICO30',\n",
    "    \"DIAGNOSTICO31\",\"DIAGNOSTICO32\",\"DIAGNOSTICO33\",\"DIAGNOSTICO34\",\"DIAGNOSTICO35\",\n",
    "    'PROCEDIMIENTO1','PROCEDIMIENTO2','PROCEDIMIENTO3','PROCEDIMIENTO4','PROCEDIMIENTO5','PROCEDIMIENTO6','PROCEDIMIENTO7','PROCEDIMIENTO8','PROCEDIMIENTO9','PROCEDIMIENTO10',\n",
    "    'PROCEDIMIENTO11','PROCEDIMIENTO12','PROCEDIMIENTO13','PROCEDIMIENTO14','PROCEDIMIENTO15','PROCEDIMIENTO16','PROCEDIMIENTO17','PROCEDIMIENTO18','PROCEDIMIENTO19','PROCEDIMIENTO20',\n",
    "    'PROCEDIMIENTO21','PROCEDIMIENTO22','PROCEDIMIENTO23','PROCEDIMIENTO24','PROCEDIMIENTO25','PROCEDIMIENTO26','PROCEDIMIENTO27','PROCEDIMIENTO28','PROCEDIMIENTO29','PROCEDIMIENTO30',\n",
    "]"
   ]
  },
  {
   "cell_type": "code",
   "execution_count": null,
   "metadata": {},
   "outputs": [],
   "source": [
    "x_values_df = pd.DataFrame(x_values.astype(int), columns = [new_cols], index = None, dtype = str)"
   ]
  },
  {
   "cell_type": "code",
   "execution_count": null,
   "metadata": {},
   "outputs": [],
   "source": [
    "x_values_df.to_csv(\"../../../Datos/Procesados/x_values.csv\", index = False)\n",
    "y_cdm_dummies.to_csv(\"../../../Datos/Procesados/y_dummies_cdm.csv\", index = False)\n",
    "y_grdtipo_dummies.to_csv(\"../../../Datos/Procesados/y_dummies_grdtipo.csv\", index = False)\n",
    "y_grd_dummies.to_csv(\"../../../Datos/Procesados/y_dummies_grd.csv\", index = False)\n",
    "y_sev_dummies.to_csv(\"../../../Datos/Procesados/y_dummies_sev.csv\", index = False)\n",
    "\n",
    "# Data que necesita luego el script ANN.ipynb"
   ]
  }
 ],
 "metadata": {
  "kernelspec": {
   "display_name": "Python 3",
   "language": "python",
   "name": "python3"
  },
  "language_info": {
   "codemirror_mode": {
    "name": "ipython",
    "version": 3
   },
   "file_extension": ".py",
   "mimetype": "text/x-python",
   "name": "python",
   "nbconvert_exporter": "python",
   "pygments_lexer": "ipython3",
   "version": "3.10.10"
  },
  "orig_nbformat": 4,
  "vscode": {
   "interpreter": {
    "hash": "121e34beeb751479e2ba46223983dfa1ccb19a00ba3706c53c5fb883d29b2d56"
   }
  }
 },
 "nbformat": 4,
 "nbformat_minor": 2
}
