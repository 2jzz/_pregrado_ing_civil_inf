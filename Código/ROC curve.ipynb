{
 "cells": [
  {
   "cell_type": "code",
   "execution_count": 1,
   "metadata": {},
   "outputs": [],
   "source": [
    "import pandas as pd\n",
    "import numpy as np\n",
    "import seaborn as sns\n",
    "\n",
    "import os\n",
    "\n",
    "import keras\n",
    "import tensorflow as tf\n",
    "import matplotlib.pyplot as plt\n",
    "\n",
    "from sklearn.model_selection import train_test_split\n",
    "from keras.models import load_model\n",
    "\n",
    "from sklearn.metrics import roc_curve, auc\n",
    "from sklearn.preprocessing import label_binarize\n",
    "\n",
    "import random as rn\n",
    "import datetime"
   ]
  },
  {
   "cell_type": "code",
   "execution_count": 2,
   "metadata": {},
   "outputs": [],
   "source": [
    "# Reading de los modelos.\n",
    "\n",
    "# Ruta donde están los modelos.\n",
    "\n",
    "model_CDM = load_model(filepath = \"../Versión 3 - actual/modelos/datasetCDM_2023_04_17_19_35\")\n",
    "\n",
    "model_GRD = load_model(filepath = \"../Versión 3 - actual/modelos/datasetGRD_2023_04_17_20_53\")\n",
    "\n",
    "model_GRDT = load_model(filepath = \"../Versión 3 - actual/modelos/datasetGRDT_2023_04_17_11_29\")\n",
    "\n",
    "model_SEV = load_model(filepath = \"../Versión 3 - actual/modelos/datasetSEV_2023_04_17_22_09\")"
   ]
  },
  {
   "cell_type": "code",
   "execution_count": 3,
   "metadata": {},
   "outputs": [],
   "source": [
    "x = pd.read_csv(\"../../../Datos/Procesados/x_values.csv\", dtype = int)\n",
    "y_cdm = pd.read_csv(\"../../../Datos/Procesados/y_dummies_cdm.csv\", dtype = int)\n",
    "y_grdt = pd.read_csv(\"../../../Datos/Procesados/y_dummies_grdtipo.csv\", dtype = int)\n",
    "y_grd = pd.read_csv(\"../../../Datos/Procesados/y_dummies_grd.csv\", dtype = int)\n",
    "y_sev = pd.read_csv(\"../../../Datos/Procesados/y_dummies_sev.csv\", dtype = int)"
   ]
  },
  {
   "cell_type": "code",
   "execution_count": 30,
   "metadata": {},
   "outputs": [],
   "source": [
    "y = y_cdm\n",
    "y_str = 'CDM'"
   ]
  },
  {
   "cell_type": "code",
   "execution_count": 31,
   "metadata": {},
   "outputs": [],
   "source": [
    "x_train, x_test, y_train, y_test = train_test_split(x, y, test_size = 0.2, random_state = 0, stratify = y)\n",
    "x_train, x_val, y_train, y_val = train_test_split(x_train, y_train, test_size = 0.1, random_state = 0, stratify = y_train)"
   ]
  },
  {
   "cell_type": "code",
   "execution_count": 32,
   "metadata": {},
   "outputs": [
    {
     "name": "stdout",
     "output_type": "stream",
     "text": [
      "11900/11900 [==============================] - 15s 1ms/step\n"
     ]
    }
   ],
   "source": [
    "y_pred = model_CDM.predict(x_test)\n",
    "\n",
    "# score = model_GRDT.evaluate(x_test, y_test, verbose = 1, batch_size = 128)"
   ]
  },
  {
   "cell_type": "code",
   "execution_count": 33,
   "metadata": {},
   "outputs": [],
   "source": [
    "y_test_np = y_test.to_numpy(dtype = np.float32)"
   ]
  },
  {
   "cell_type": "code",
   "execution_count": 34,
   "metadata": {},
   "outputs": [
    {
     "data": {
      "text/plain": [
       "23"
      ]
     },
     "execution_count": 34,
     "metadata": {},
     "output_type": "execute_result"
    }
   ],
   "source": [
    "y_pred.shape[1]"
   ]
  },
  {
   "cell_type": "code",
   "execution_count": 35,
   "metadata": {},
   "outputs": [],
   "source": [
    "num_classes = y_pred.shape[1]"
   ]
  },
  {
   "cell_type": "code",
   "execution_count": 36,
   "metadata": {},
   "outputs": [
    {
     "name": "stdout",
     "output_type": "stream",
     "text": [
      "[0. 0. 0. ... 1. 0. 0.]\n"
     ]
    }
   ],
   "source": [
    "print(y_test_np[:, 0])"
   ]
  },
  {
   "cell_type": "code",
   "execution_count": 37,
   "metadata": {},
   "outputs": [],
   "source": [
    "fpr = dict()\n",
    "tpr = dict()\n",
    "roc_auc = dict()\n",
    "\n",
    "for i in range(num_classes):\n",
    "    fpr[i], tpr[i], _ = roc_curve(y_test_np[:, i], y_pred[:, i])\n",
    "    roc_auc[i] = auc(fpr[i], tpr[i])"
   ]
  },
  {
   "cell_type": "code",
   "execution_count": 38,
   "metadata": {},
   "outputs": [],
   "source": [
    "all_fpr = np.unique(np.concatenate([fpr[i] for i in range(num_classes)]))\n",
    "mean_tpr = np.zeros_like(all_fpr)\n",
    "\n",
    "for i in range(num_classes):\n",
    "    mean_tpr += np.interp(all_fpr, fpr[i], tpr[i])\n",
    "\n",
    "mean_tpr /= num_classes\n",
    "\n",
    "fpr[\"macro\"] = all_fpr\n",
    "tpr[\"macro\"] = mean_tpr\n",
    "roc_auc[\"macro\"] = auc(fpr[\"macro\"], tpr[\"macro\"])"
   ]
  },
  {
   "cell_type": "code",
   "execution_count": 39,
   "metadata": {},
   "outputs": [],
   "source": [
    "lst = y_test.columns"
   ]
  },
  {
   "cell_type": "code",
   "execution_count": 40,
   "metadata": {},
   "outputs": [],
   "source": [
    "# Función para crear y guardar la curva ROC de una clase específica\n",
    "def save_roc_plot(fpr, tpr, roc_auc, class_index, class_name, output_path):\n",
    "    plt.figure(figsize=(10, 10))\n",
    "    plt.plot(fpr[class_index], tpr[class_index], label=f'Curva ROC ({class_name}, área = {roc_auc[class_index]:.2f})')\n",
    "    plt.plot([0, 1], [0, 1], linestyle='--', lw=2, color='r', label='Clasificación aleatoria', alpha=0.8)\n",
    "    \n",
    "    plt.xlim([0.0, 1.0])\n",
    "    plt.ylim([0.0, 1.05])\n",
    "    plt.xlabel('Tasa de falsos positivos')\n",
    "    plt.ylabel('Tasa de verdaderos positivos')\n",
    "    plt.title(f'Curva ROC {class_name}')\n",
    "    plt.legend(loc=\"lower right\")\n",
    "    plt.savefig(output_path, dpi=300)\n",
    "    plt.close()"
   ]
  },
  {
   "cell_type": "code",
   "execution_count": 41,
   "metadata": {},
   "outputs": [],
   "source": [
    "# Iterar sobre todas las clases y guardar la curva ROC para cada clase\n",
    "for i in range(num_classes):\n",
    "    class_name = lst[i]\n",
    "    path_ = f\"../../../Visualización de datos/Curvas ROC/{y_str}\"\n",
    "    isExists = os.path.exists(path=path_)\n",
    "    if not isExists:\n",
    "        os.makedirs(path_)\n",
    "    output_path = f\"{path_}/Curva_ROC_clase_{class_name}.png\"\n",
    "    save_roc_plot(fpr, tpr, roc_auc, i, class_name, output_path)"
   ]
  },
  {
   "cell_type": "code",
   "execution_count": 42,
   "metadata": {},
   "outputs": [],
   "source": [
    "# plt.figure(figsize=(10, 10))\n",
    "\n",
    "# # Trazar la curva ROC para cada clase\n",
    "# for i in range(num_classes):\n",
    "#     plt.plot(fpr[i], tpr[i], label=f'Curva ROC (Clase {lst[i]}, área = {roc_auc[i]:.2f})')\n",
    "\n",
    "# # Trazar la curva ROC promedio\n",
    "# plt.plot(fpr[\"macro\"], tpr[\"macro\"], label=f'Curva ROC promedio (área = {roc_auc[\"macro\"]:.2f})', color='navy', linestyle='--')\n",
    "\n",
    "# # Trazar una línea diagonal para representar una clasificación aleatoria\n",
    "# plt.plot([0, 1], [0, 1], linestyle='--', lw=2, color='r', label='Clasificación aleatoria', alpha=0.8)\n",
    "\n",
    "# plt.xlim([0.0, 1.0])\n",
    "# plt.ylim([0.0, 1.05])\n",
    "# plt.xlabel('Tasa de falsos positivos')\n",
    "# plt.ylabel('Tasa de verdaderos positivos')\n",
    "# plt.title('Curva ROC multiclase')\n",
    "# plt.legend(loc=\"lower right\")\n",
    "# plt.show()"
   ]
  }
 ],
 "metadata": {
  "kernelspec": {
   "display_name": "Python 3",
   "language": "python",
   "name": "python3"
  },
  "language_info": {
   "codemirror_mode": {
    "name": "ipython",
    "version": 3
   },
   "file_extension": ".py",
   "mimetype": "text/x-python",
   "name": "python",
   "nbconvert_exporter": "python",
   "pygments_lexer": "ipython3",
   "version": "3.10.10"
  },
  "orig_nbformat": 4
 },
 "nbformat": 4,
 "nbformat_minor": 2
}
