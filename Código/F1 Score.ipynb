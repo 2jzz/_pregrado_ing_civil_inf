{
 "cells": [
  {
   "cell_type": "code",
   "execution_count": 1,
   "metadata": {},
   "outputs": [],
   "source": [
    "import pandas as pd\n",
    "import numpy as np\n",
    "import seaborn as sns\n",
    "\n",
    "import os\n",
    "\n",
    "import keras\n",
    "import tensorflow as tf\n",
    "import matplotlib.pyplot as plt\n",
    "\n",
    "from sklearn.model_selection import train_test_split\n",
    "from keras.models import load_model\n",
    "\n",
    "from sklearn.metrics import f1_score\n",
    "\n",
    "import random as rn\n",
    "import datetime"
   ]
  },
  {
   "cell_type": "code",
   "execution_count": 2,
   "metadata": {},
   "outputs": [],
   "source": [
    "# Reading de los modelos.\n",
    "\n",
    "# Ruta donde están los modelos.\n",
    "\n",
    "model_CDM = load_model(filepath = \"../Versión 3 - actual/modelos/datasetCDM_2023_04_17_19_35\")\n",
    "\n",
    "model_GRD = load_model(filepath = \"../Versión 3 - actual/modelos/datasetGRD_2023_04_17_20_53\")\n",
    "\n",
    "model_GRDT = load_model(filepath = \"../Versión 3 - actual/modelos/datasetGRDT_2023_04_17_11_29\")\n",
    "\n",
    "model_SEV = load_model(filepath = \"../Versión 3 - actual/modelos/datasetSEV_2023_04_17_22_09\")"
   ]
  },
  {
   "cell_type": "code",
   "execution_count": 3,
   "metadata": {},
   "outputs": [],
   "source": [
    "x = pd.read_csv(\"../../../Datos/Procesados/x_values.csv\", dtype = int)\n",
    "y_cdm = pd.read_csv(\"../../../Datos/Procesados/y_dummies_cdm.csv\", dtype = int)\n",
    "y_grdt = pd.read_csv(\"../../../Datos/Procesados/y_dummies_grdtipo.csv\", dtype = int)\n",
    "y_grd = pd.read_csv(\"../../../Datos/Procesados/y_dummies_grd.csv\", dtype = int)\n",
    "y_sev = pd.read_csv(\"../../../Datos/Procesados/y_dummies_sev.csv\", dtype = int)"
   ]
  },
  {
   "cell_type": "code",
   "execution_count": 105,
   "metadata": {},
   "outputs": [],
   "source": [
    "y = y_sev\n",
    "y_str = \"SEV\""
   ]
  },
  {
   "cell_type": "code",
   "execution_count": 106,
   "metadata": {},
   "outputs": [],
   "source": [
    "x_train, x_test, y_train, y_test = train_test_split(x, y, test_size = 0.2, random_state = 0, stratify = y)\n",
    "x_train, x_val, y_train, y_val = train_test_split(x_train, y_train, test_size = 0.1, random_state = 0, stratify = y_train)"
   ]
  },
  {
   "cell_type": "code",
   "execution_count": 107,
   "metadata": {},
   "outputs": [
    {
     "name": "stdout",
     "output_type": "stream",
     "text": [
      "11900/11900 [==============================] - 16s 1ms/step\n"
     ]
    }
   ],
   "source": [
    "y_prediction = model_SEV.predict(x_test)\n",
    "\n",
    "# score = model_GRDT.evaluate(x_test, y_test, verbose = 1, batch_size = 128)"
   ]
  },
  {
   "cell_type": "code",
   "execution_count": 108,
   "metadata": {},
   "outputs": [],
   "source": [
    "y_test_np = y_test.to_numpy(dtype = np.float32)"
   ]
  },
  {
   "cell_type": "code",
   "execution_count": 109,
   "metadata": {},
   "outputs": [],
   "source": [
    "class_labels = y_test.columns"
   ]
  },
  {
   "cell_type": "code",
   "execution_count": 110,
   "metadata": {},
   "outputs": [],
   "source": [
    "# class_labels = ['1', '2', '3', '4', '5', '6', '7', '8', '10', '11', '12', '13', '14',\n",
    "#        '15', '16', '17', '18', '19', '20', '21', '22', '23', '24', '25', '26',\n",
    "#        '27', '29', '30', '31', '32', '33', '34', '35', '36', '37', '40',\n",
    "#        '41', '42', '43', '44', '50', '51', '52', '53', '60', '61', '62', '63',\n",
    "#        '64', '65', '70', '71', '72', '80', '81', '82', '83', '84']"
   ]
  },
  {
   "cell_type": "code",
   "execution_count": 111,
   "metadata": {},
   "outputs": [],
   "source": [
    "class_percentages = []\n",
    "\n",
    "for i in y_test:\n",
    "    class_percentages.append(y_test[i].value_counts()[1]/len(y_test_np))"
   ]
  },
  {
   "cell_type": "code",
   "execution_count": 112,
   "metadata": {},
   "outputs": [],
   "source": [
    "y_pred_classes = np.argmax(y_prediction, axis = 1, )\n",
    "y_true_classes = np.argmax(y_test_np, axis = 1, keepdims = False)"
   ]
  },
  {
   "cell_type": "code",
   "execution_count": 113,
   "metadata": {},
   "outputs": [],
   "source": [
    "f1_per_class = f1_score(y_true_classes, y_pred_classes, average=None)\n",
    "f1_macro = f1_score(y_true_classes, y_pred_classes, average='macro')"
   ]
  },
  {
   "cell_type": "code",
   "execution_count": 123,
   "metadata": {},
   "outputs": [],
   "source": [
    "def save_f1_per_class_plot_with_color_scale(f1_per_class, class_labels, class_percentages, output_folder, min_color_percentage=0.01):\n",
    "    if not os.path.exists(output_folder):\n",
    "        os.makedirs(output_folder)\n",
    "\n",
    "    num_classes = len(class_labels)\n",
    "    plt.figure(figsize=(10, 6))\n",
    "\n",
    "    # Genera la escala de color basada en la participación de cada clase, en un rango de 0 a 15%\n",
    "    # Agrega un valor mínimo al porcentaje de participación antes de escalar el color\n",
    "    adjusted_percentages = np.array(class_percentages) + min_color_percentage\n",
    "    color_scale = (adjusted_percentages) #+ min_color_percentage\n",
    "    color_scale[color_scale > 1] = 1  # Asegura que la escala de color no supere el 100%\n",
    "    colors = plt.cm.Blues(color_scale)\n",
    "\n",
    "    plt.bar(np.arange(num_classes), f1_per_class, color=colors)\n",
    "    plt.xticks(np.arange(num_classes), class_labels, rotation=90)\n",
    "    plt.xlabel('Clases')\n",
    "    plt.ylabel('F1-score')\n",
    "    plt.title('F1-score por Clase')\n",
    "    plt.savefig(os.path.join(output_folder, 'f1_per_class_color_scale_adjusted.png'), bbox_inches='tight')\n",
    "    plt.close()\n"
   ]
  },
  {
   "cell_type": "code",
   "execution_count": 115,
   "metadata": {},
   "outputs": [],
   "source": [
    "def save_f1_macro_plot(f1_macro, output_folder):\n",
    "    if not os.path.exists(output_folder):\n",
    "        os.makedirs(output_folder)\n",
    "\n",
    "    plt.figure(figsize=(6, 4))\n",
    "    plt.bar(0, f1_macro, color='blue')\n",
    "    plt.xticks([])\n",
    "    plt.ylim(0, 1)\n",
    "    plt.ylabel('F1-score')\n",
    "    plt.title('F1-score Promedio (Macro)')\n",
    "    plt.savefig(os.path.join(output_folder, 'f1_macro.png'), bbox_inches='tight')\n",
    "    plt.close()"
   ]
  },
  {
   "cell_type": "code",
   "execution_count": 124,
   "metadata": {},
   "outputs": [],
   "source": [
    "output_folder = f\"../../../Visualización de datos/F1 - Score/{y_str}/\"\n",
    "save_f1_per_class_plot_with_color_scale(f1_per_class, class_labels, class_percentages, output_folder)\n",
    "save_f1_macro_plot(f1_macro, output_folder)\n"
   ]
  }
 ],
 "metadata": {
  "kernelspec": {
   "display_name": "Python 3",
   "language": "python",
   "name": "python3"
  },
  "language_info": {
   "codemirror_mode": {
    "name": "ipython",
    "version": 3
   },
   "file_extension": ".py",
   "mimetype": "text/x-python",
   "name": "python",
   "nbconvert_exporter": "python",
   "pygments_lexer": "ipython3",
   "version": "3.10.10"
  },
  "orig_nbformat": 4
 },
 "nbformat": 4,
 "nbformat_minor": 2
}
