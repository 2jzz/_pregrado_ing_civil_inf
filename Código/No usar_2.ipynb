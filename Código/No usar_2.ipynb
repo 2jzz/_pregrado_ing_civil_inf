{
 "cells": [
  {
   "cell_type": "code",
   "execution_count": 1,
   "metadata": {},
   "outputs": [
    {
     "name": "stderr",
     "output_type": "stream",
     "text": [
      "c:\\Users\\Phine\\AppData\\Local\\Programs\\Python\\Python310\\lib\\site-packages\\tqdm\\auto.py:21: TqdmWarning: IProgress not found. Please update jupyter and ipywidgets. See https://ipywidgets.readthedocs.io/en/stable/user_install.html\n",
      "  from .autonotebook import tqdm as notebook_tqdm\n"
     ]
    }
   ],
   "source": [
    "import pandas as pd\n",
    "import numpy as np\n",
    "import matplotlib.pyplot as plt\n",
    "\n",
    "import time\n",
    "import datetime\n",
    "import os\n",
    "\n",
    "from sklearn.model_selection import train_test_split\n",
    "from keras.models import load_model\n",
    "\n",
    "import shap"
   ]
  },
  {
   "cell_type": "code",
   "execution_count": 2,
   "metadata": {},
   "outputs": [],
   "source": [
    "# Reading de los modelos.\n",
    "\n",
    "# Ruta donde están los modelos.\n",
    "\n",
    "model_CDM = load_model(filepath = \"../Versión 3 - actual/modelos/datasetCDM_2023_04_17_19_35\")\n",
    "\n",
    "model_GRD = load_model(filepath = \"../Versión 3 - actual/modelos/datasetGRD_2023_04_17_20_53\")\n",
    "\n",
    "model_GRDT = load_model(filepath = \"../Versión 3 - actual/modelos/datasetGRDT_2023_04_17_11_29\")\n",
    "\n",
    "model_SEV = load_model(filepath = \"../Versión 3 - actual/modelos/datasetSEV_2023_04_17_22_09\")"
   ]
  },
  {
   "cell_type": "code",
   "execution_count": 3,
   "metadata": {},
   "outputs": [],
   "source": [
    "# start_code = time.time()"
   ]
  },
  {
   "cell_type": "code",
   "execution_count": 4,
   "metadata": {},
   "outputs": [],
   "source": [
    "relative_1 = \"F:/Universidad/Tesis/Codigo/Datos/Procesados\"\n",
    "x = pd.read_csv(f\"{relative_1}/x_values.csv\", dtype = int)\n",
    "y_cdm = pd.read_csv(f\"{relative_1}/y_dummies_cdm.csv\", dtype = int)\n",
    "y_grdt = pd.read_csv(f\"{relative_1}/y_dummies_grdtipo.csv\", dtype = int)\n",
    "y_grd = pd.read_csv(f\"{relative_1}/y_dummies_grd.csv\", dtype = int)\n",
    "y_sev = pd.read_csv(f\"{relative_1}/y_dummies_sev.csv\", dtype = int)\n",
    "df = pd.read_csv(f'{relative_1}/dataset_procesado_pbi.csv', dtype = str)"
   ]
  },
  {
   "cell_type": "code",
   "execution_count": 5,
   "metadata": {},
   "outputs": [],
   "source": [
    "lst_y = [y_cdm, y_grdt, y_grd, y_sev]\n",
    "lst_y_str = ['CDM', 'GRDT', 'GRD', 'SEV']\n",
    "lst_model = [model_CDM, model_GRDT, model_GRD, model_SEV]"
   ]
  },
  {
   "cell_type": "code",
   "execution_count": 6,
   "metadata": {},
   "outputs": [],
   "source": [
    "x_train, x_test, y_train, _ = train_test_split(x, lst_y[0], train_size = 0.0004, test_size = 0.0004, random_state = 0, stratify = lst_y[0])\n",
    "\n",
    "lista_indices_train = x_train.index.to_list()\n",
    "lista_indices_test = x_test.index.to_list()\n",
    "\n",
    "df_recortado = df.iloc[lista_indices_train]"
   ]
  },
  {
   "cell_type": "code",
   "execution_count": 229,
   "metadata": {},
   "outputs": [],
   "source": [
    "y_test_cdm = y_cdm.iloc[lista_indices_test]\n",
    "y_test_grdt = y_grdt.iloc[lista_indices_test]\n",
    "y_test_grd = y_grd.iloc[lista_indices_test]\n",
    "y_test_sev = y_sev.iloc[lista_indices_test]\n",
    "\n",
    "y_test_models = [y_test_cdm, y_test_grdt, y_test_grd, y_test_sev]"
   ]
  },
  {
   "cell_type": "code",
   "execution_count": 33,
   "metadata": {},
   "outputs": [],
   "source": [
    "i = 3"
   ]
  },
  {
   "cell_type": "code",
   "execution_count": 34,
   "metadata": {},
   "outputs": [],
   "source": [
    "model = lst_model[i]"
   ]
  },
  {
   "cell_type": "code",
   "execution_count": 35,
   "metadata": {},
   "outputs": [],
   "source": [
    "def predict_proba(X):\n",
    "    return model.predict(X, verbose = False)"
   ]
  },
  {
   "cell_type": "code",
   "execution_count": null,
   "metadata": {},
   "outputs": [],
   "source": [
    "# Crear un objeto KernelExplainer de SHAP\n",
    "background_data = shap.sample(x_train, 100)  # Usar una muestra del conjunto de entrenamiento como datos de fondo\n",
    "explainer = shap.KernelExplainer(predict_proba, background_data)\n",
    "lst_explainers.append(explainer)\n",
    "# Calcular los valores SHAP para el conjunto de datos de prueba\n",
    "shap_values = explainer.shap_values(x_test, nsamples = 100)\n",
    "lst_shap_values.append(shap_values)"
   ]
  },
  {
   "cell_type": "code",
   "execution_count": 41,
   "metadata": {},
   "outputs": [],
   "source": [
    "type_plot = \"BAR_PLOT\"\n",
    "y_str = ['CDM', 'GRDT', 'GRD', 'SEV']"
   ]
  },
  {
   "cell_type": "code",
   "execution_count": 48,
   "metadata": {},
   "outputs": [],
   "source": [
    "i = 0"
   ]
  },
  {
   "cell_type": "code",
   "execution_count": 181,
   "metadata": {},
   "outputs": [],
   "source": [
    "# Establece la resolución de la figura\n",
    "plt.rcParams[\"figure.dpi\"] = 300\n",
    "for n in range(len(lst_shap_values[i])):\n",
    "    # Crea una nueva figura con el tamaño deseado\n",
    "    plt.figure(figsize=(12, 5))\n",
    "    plt.title(\"Importancia de datos de entrada modelo CDM\")\n",
    "    # Genera el gráfico de resumen\n",
    "    shap.summary_plot(lst_shap_values[i][n], x_test, plot_type='bar', show = False)\n",
    "    output_folder = f\"F:/Universidad/Tesis/Codigo/Visualización de datos/SHAP/Summary Plot/{y_str[i]}\"\n",
    "    if not os.path.exists(output_folder):\n",
    "        os.makedirs(output_folder)\n",
    "    plt.savefig(f\"{output_folder}/class_{y_train_models[i].columns[n]}.png\")\n",
    "    plt.close()  # Cierra la figura para liberar memoria"
   ]
  },
  {
   "cell_type": "code",
   "execution_count": 234,
   "metadata": {},
   "outputs": [],
   "source": [
    "i = 3"
   ]
  },
  {
   "cell_type": "code",
   "execution_count": 239,
   "metadata": {},
   "outputs": [],
   "source": [
    "lst_predictions = []"
   ]
  },
  {
   "cell_type": "code",
   "execution_count": 240,
   "metadata": {},
   "outputs": [
    {
     "name": "stdout",
     "output_type": "stream",
     "text": [
      "24/24 [==============================] - 0s 2ms/step\n",
      "24/24 [==============================] - 0s 2ms/step\n",
      "24/24 [==============================] - 0s 2ms/step\n",
      "24/24 [==============================] - 0s 2ms/step\n"
     ]
    }
   ],
   "source": [
    "for asd in range(len(lst_model)):\n",
    "    prediccion = lst_model[asd].predict(x_test)\n",
    "    lst_predictions.append(prediccion)"
   ]
  },
  {
   "cell_type": "code",
   "execution_count": 256,
   "metadata": {},
   "outputs": [
    {
     "data": {
      "text/plain": [
       "0.744962"
      ]
     },
     "execution_count": 256,
     "metadata": {},
     "output_type": "execute_result"
    }
   ],
   "source": [
    "lst_predictions[i][0]"
   ]
  },
  {
   "cell_type": "code",
   "execution_count": 270,
   "metadata": {},
   "outputs": [],
   "source": [
    "row_index = 0"
   ]
  },
  {
   "cell_type": "code",
   "execution_count": 271,
   "metadata": {},
   "outputs": [],
   "source": [
    "plt.figure(figsize = [18, 15], dpi = 300)\n",
    "def class_labels(row_index):\n",
    "    return [f'Clase {y_test_models[i].columns[f]} ({lst_predictions[i][row_index, f].round(2):.2f})' for f in range(len(y_test_models[i].columns))]\n",
    "\n",
    "shap.multioutput_decision_plot(list(lst_explainers[i].expected_value), list(lst_shap_values[i]),\n",
    "                                row_index = row_index,\n",
    "                                feature_names=list(x_test.columns),\n",
    "                                highlight=[np.argmax(lst_predictions[i][row_index])],\n",
    "                                legend_labels=class_labels(row_index),\n",
    "                                legend_location='lower right',\n",
    "                                auto_size_plot = False,\n",
    "                                show = False)\n",
    "# Guardar cada gráfico en un archivo separado\n",
    "output_folder = f\"F:/Universidad/Tesis/Codigo/Visualización de datos/SHAP/prueba1\"\n",
    "if not os.path.exists(output_folder):\n",
    "    os.makedirs(output_folder)\n",
    "plt.savefig(f\"{output_folder}/{y_str[i]}_multioutput_decision_plot_patient_{x_test['DIAGNOSTICO1'].index[row_index]}.png\")\n",
    "# Cerrar la figura para liberar memoria\n",
    "plt.close()"
   ]
  },
  {
   "cell_type": "code",
   "execution_count": 155,
   "metadata": {},
   "outputs": [
    {
     "data": {
      "text/html": [
       "\n",
       "<div id='iC7RD0COXQQCZ6S5H7KWP'>\n",
       "<div style='color: #900; text-align: center;'>\n",
       "  <b>Visualization omitted, Javascript library not loaded!</b><br>\n",
       "  Have you run `initjs()` in this notebook? If this notebook was from another\n",
       "  user you must also trust this notebook (File -> Trust notebook). If you are viewing\n",
       "  this notebook on github the Javascript has been stripped for security. If you are using\n",
       "  JupyterLab this error is because a JupyterLab extension has not yet been written.\n",
       "</div></div>\n",
       " <script>\n",
       "   if (window.SHAP) SHAP.ReactDom.render(\n",
       "    SHAP.React.createElement(SHAP.AdditiveForceVisualizer, {\"outNames\": [\"f(x)\"], \"baseValue\": 0.05741144893905207, \"outValue\": 0.9780910015106201, \"link\": \"identity\", \"featureNames\": [\"HOMBRE\", \"MUJER\", \"EDAD\", \"DIAGNOSTICO1\", \"DIAGNOSTICO2\", \"DIAGNOSTICO3\", \"DIAGNOSTICO4\", \"DIAGNOSTICO5\", \"DIAGNOSTICO6\", \"DIAGNOSTICO7\", \"DIAGNOSTICO8\", \"DIAGNOSTICO9\", \"DIAGNOSTICO10\", \"DIAGNOSTICO11\", \"DIAGNOSTICO12\", \"DIAGNOSTICO13\", \"DIAGNOSTICO14\", \"DIAGNOSTICO15\", \"DIAGNOSTICO16\", \"DIAGNOSTICO17\", \"DIAGNOSTICO18\", \"DIAGNOSTICO19\", \"DIAGNOSTICO20\", \"DIAGNOSTICO21\", \"DIAGNOSTICO22\", \"DIAGNOSTICO23\", \"DIAGNOSTICO24\", \"DIAGNOSTICO25\", \"DIAGNOSTICO26\", \"DIAGNOSTICO27\", \"DIAGNOSTICO28\", \"DIAGNOSTICO29\", \"DIAGNOSTICO30\", \"DIAGNOSTICO31\", \"DIAGNOSTICO32\", \"DIAGNOSTICO33\", \"DIAGNOSTICO34\", \"DIAGNOSTICO35\", \"PROCEDIMIENTO1\", \"PROCEDIMIENTO2\", \"PROCEDIMIENTO3\", \"PROCEDIMIENTO4\", \"PROCEDIMIENTO5\", \"PROCEDIMIENTO6\", \"PROCEDIMIENTO7\", \"PROCEDIMIENTO8\", \"PROCEDIMIENTO9\", \"PROCEDIMIENTO10\", \"PROCEDIMIENTO11\", \"PROCEDIMIENTO12\", \"PROCEDIMIENTO13\", \"PROCEDIMIENTO14\", \"PROCEDIMIENTO15\", \"PROCEDIMIENTO16\", \"PROCEDIMIENTO17\", \"PROCEDIMIENTO18\", \"PROCEDIMIENTO19\", \"PROCEDIMIENTO20\", \"PROCEDIMIENTO21\", \"PROCEDIMIENTO22\", \"PROCEDIMIENTO23\", \"PROCEDIMIENTO24\", \"PROCEDIMIENTO25\", \"PROCEDIMIENTO26\", \"PROCEDIMIENTO27\", \"PROCEDIMIENTO28\", \"PROCEDIMIENTO29\", \"PROCEDIMIENTO30\"], \"features\": {\"3\": {\"effect\": 0.5588144349310566, \"value\": 1985.0}, \"12\": {\"effect\": 0.026413807053540184, \"value\": -1.0}, \"15\": {\"effect\": -0.003695621881543376, \"value\": -1.0}, \"31\": {\"effect\": 0.015072081885519922, \"value\": -1.0}, \"38\": {\"effect\": 0.1849206290287192, \"value\": 3355.0}, \"39\": {\"effect\": 0.05511851949887636, \"value\": 2942.0}, \"40\": {\"effect\": 0.03785363535369768, \"value\": 2537.0}, \"47\": {\"effect\": 0.02738088282661888, \"value\": -1.0}, \"55\": {\"effect\": 0.01880118387508256, \"value\": -1.0}}, \"plot_cmap\": \"RdBu\", \"labelMargin\": 20}),\n",
       "    document.getElementById('iC7RD0COXQQCZ6S5H7KWP')\n",
       "  );\n",
       "</script>"
      ],
      "text/plain": [
       "<shap.plots._force.AdditiveForceVisualizer at 0x1eb85e51ea0>"
      ]
     },
     "execution_count": 155,
     "metadata": {},
     "output_type": "execute_result"
    }
   ],
   "source": [
    "shap.force_plot(lst_explainers[0].expected_value[0], lst_shap_values[0][0][1], x_test.iloc[1, :], show = True)"
   ]
  },
  {
   "cell_type": "code",
   "execution_count": 68,
   "metadata": {},
   "outputs": [
    {
     "ename": "AssertionError",
     "evalue": "The shap_values paramemter must be a shap.Explanation object!",
     "output_type": "error",
     "traceback": [
      "\u001b[1;31m---------------------------------------------------------------------------\u001b[0m",
      "\u001b[1;31mAssertionError\u001b[0m                            Traceback (most recent call last)",
      "Cell \u001b[1;32mIn[68], line 6\u001b[0m\n\u001b[0;32m      4\u001b[0m plt\u001b[39m.\u001b[39mfigure(figsize \u001b[39m=\u001b[39m [\u001b[39m15\u001b[39m, \u001b[39m15\u001b[39m], dpi \u001b[39m=\u001b[39m \u001b[39m150\u001b[39m)\n\u001b[0;32m      5\u001b[0m \u001b[39m# Generar el bar_plot para la clase actual y el valor SHAP seleccionado\u001b[39;00m\n\u001b[1;32m----> 6\u001b[0m shap\u001b[39m.\u001b[39;49mplots\u001b[39m.\u001b[39;49mscatter(\n\u001b[0;32m      7\u001b[0m     lst_explainers[\u001b[39m0\u001b[39;49m],\n\u001b[0;32m      8\u001b[0m     show\u001b[39m=\u001b[39;49m\u001b[39mTrue\u001b[39;49;00m  \u001b[39m# Establecer en False para evitar que se muestre la trama en la ventana de salida\u001b[39;49;00m\n\u001b[0;32m      9\u001b[0m )\n\u001b[0;32m     11\u001b[0m \u001b[39m# Guardar cada gráfico en un archivo separado\u001b[39;00m\n\u001b[0;32m     12\u001b[0m \u001b[39m# output_folder = f\"F:/Universidad/Tesis/Codigo/Visualización de datos/SHAP_segundo_intento\"\u001b[39;00m\n\u001b[0;32m     13\u001b[0m \u001b[39m# if not os.path.exists(output_folder):\u001b[39;00m\n\u001b[1;32m   (...)\u001b[0m\n\u001b[0;32m     16\u001b[0m \n\u001b[0;32m     17\u001b[0m \u001b[39m# Cerrar la figura para liberar memoria\u001b[39;00m\n\u001b[0;32m     18\u001b[0m plt\u001b[39m.\u001b[39mclose()\n",
      "File \u001b[1;32mc:\\Users\\Phine\\AppData\\Local\\Programs\\Python\\Python310\\lib\\site-packages\\shap\\plots\\_scatter.py:76\u001b[0m, in \u001b[0;36mscatter\u001b[1;34m(shap_values, color, hist, axis_color, cmap, dot_size, x_jitter, alpha, title, xmin, xmax, ymin, ymax, overlay, ax, ylabel, show)\u001b[0m\n\u001b[0;32m     19\u001b[0m \u001b[39mdef\u001b[39;00m \u001b[39mscatter\u001b[39m(shap_values, color\u001b[39m=\u001b[39m\u001b[39m\"\u001b[39m\u001b[39m#1E88E5\u001b[39m\u001b[39m\"\u001b[39m, hist\u001b[39m=\u001b[39m\u001b[39mTrue\u001b[39;00m, axis_color\u001b[39m=\u001b[39m\u001b[39m\"\u001b[39m\u001b[39m#333333\u001b[39m\u001b[39m\"\u001b[39m, cmap\u001b[39m=\u001b[39mcolors\u001b[39m.\u001b[39mred_blue,\n\u001b[0;32m     20\u001b[0m             dot_size\u001b[39m=\u001b[39m\u001b[39m16\u001b[39m, x_jitter\u001b[39m=\u001b[39m\u001b[39m\"\u001b[39m\u001b[39mauto\u001b[39m\u001b[39m\"\u001b[39m, alpha\u001b[39m=\u001b[39m\u001b[39m1\u001b[39m, title\u001b[39m=\u001b[39m\u001b[39mNone\u001b[39;00m, xmin\u001b[39m=\u001b[39m\u001b[39mNone\u001b[39;00m, xmax\u001b[39m=\u001b[39m\u001b[39mNone\u001b[39;00m, ymin\u001b[39m=\u001b[39m\u001b[39mNone\u001b[39;00m, ymax\u001b[39m=\u001b[39m\u001b[39mNone\u001b[39;00m,\n\u001b[0;32m     21\u001b[0m             overlay\u001b[39m=\u001b[39m\u001b[39mNone\u001b[39;00m, ax\u001b[39m=\u001b[39m\u001b[39mNone\u001b[39;00m, ylabel\u001b[39m=\u001b[39m\u001b[39m\"\u001b[39m\u001b[39mSHAP value\u001b[39m\u001b[39m\"\u001b[39m, show\u001b[39m=\u001b[39m\u001b[39mTrue\u001b[39;00m):\n\u001b[0;32m     22\u001b[0m \u001b[39m    \u001b[39m\u001b[39m\"\"\" Create a SHAP dependence scatter plot, colored by an interaction feature.\u001b[39;00m\n\u001b[0;32m     23\u001b[0m \n\u001b[0;32m     24\u001b[0m \u001b[39m    Plots the value of the feature on the x-axis and the SHAP value of the same feature\u001b[39;00m\n\u001b[1;32m   (...)\u001b[0m\n\u001b[0;32m     72\u001b[0m \n\u001b[0;32m     73\u001b[0m \u001b[39m    \"\"\"\u001b[39;00m\n\u001b[1;32m---> 76\u001b[0m     \u001b[39massert\u001b[39;00m \u001b[39mstr\u001b[39m(\u001b[39mtype\u001b[39m(shap_values))\u001b[39m.\u001b[39mendswith(\u001b[39m\"\u001b[39m\u001b[39mExplanation\u001b[39m\u001b[39m'\u001b[39m\u001b[39m>\u001b[39m\u001b[39m\"\u001b[39m), \u001b[39m\"\u001b[39m\u001b[39mThe shap_values paramemter must be a shap.Explanation object!\u001b[39m\u001b[39m\"\u001b[39m\n\u001b[0;32m     78\u001b[0m     \u001b[39m# see if we are plotting multiple columns\u001b[39;00m\n\u001b[0;32m     79\u001b[0m     \u001b[39mif\u001b[39;00m \u001b[39mnot\u001b[39;00m \u001b[39misinstance\u001b[39m(shap_values\u001b[39m.\u001b[39mfeature_names, \u001b[39mstr\u001b[39m) \u001b[39mand\u001b[39;00m \u001b[39mlen\u001b[39m(shap_values\u001b[39m.\u001b[39mfeature_names) \u001b[39m>\u001b[39m \u001b[39m0\u001b[39m:\n",
      "\u001b[1;31mAssertionError\u001b[0m: The shap_values paramemter must be a shap.Explanation object!"
     ]
    },
    {
     "data": {
      "text/plain": [
       "<Figure size 2250x2250 with 0 Axes>"
      ]
     },
     "metadata": {},
     "output_type": "display_data"
    }
   ],
   "source": [
    "class_shap_values = lst_shap_values[i]\n",
    "random_shap_values = class_shap_values[0]\n",
    "# Crear una figura para cada clase\n",
    "plt.figure(figsize = [15, 15], dpi = 150)\n",
    "# Generar el bar_plot para la clase actual y el valor SHAP seleccionado\n",
    "shap.plots.scatter(\n",
    "    lst_explainers[0],\n",
    "    show=True  # Establecer en False para evitar que se muestre la trama en la ventana de salida\n",
    ")\n",
    "\n",
    "# Guardar cada gráfico en un archivo separado\n",
    "# output_folder = f\"F:/Universidad/Tesis/Codigo/Visualización de datos/SHAP_segundo_intento\"\n",
    "# if not os.path.exists(output_folder):\n",
    "#     os.makedirs(output_folder)\n",
    "# plt.savefig(f\"{output_folder}/{type_plot}_{y_str[i]}_class_{y_train_models[i].columns[n]}_patient_{x_train['DIAGNOSTICO1'].index[j]}.png\")\n",
    "\n",
    "# Cerrar la figura para liberar memoria\n",
    "plt.close()"
   ]
  },
  {
   "cell_type": "code",
   "execution_count": 49,
   "metadata": {},
   "outputs": [
    {
     "name": "stdout",
     "output_type": "stream",
     "text": [
      "Obteniendo gráficas de la clase: 1\n",
      "Graficas obtenidas, Tiempo total de ejecución: 0:30 minutos.\n",
      "--------------------------\n",
      "\n",
      "Obteniendo gráficas de la clase: 2\n",
      "Graficas obtenidas, Tiempo total de ejecución: 0:29 minutos.\n",
      "--------------------------\n",
      "\n",
      "Obteniendo gráficas de la clase: 3\n",
      "Graficas obtenidas, Tiempo total de ejecución: 0:30 minutos.\n",
      "--------------------------\n",
      "\n",
      "Obteniendo gráficas de la clase: 4\n",
      "Graficas obtenidas, Tiempo total de ejecución: 0:30 minutos.\n",
      "--------------------------\n",
      "\n",
      "Obteniendo gráficas de la clase: 5\n",
      "Graficas obtenidas, Tiempo total de ejecución: 0:29 minutos.\n",
      "--------------------------\n",
      "\n",
      "Obteniendo gráficas de la clase: 6\n",
      "Graficas obtenidas, Tiempo total de ejecución: 0:29 minutos.\n",
      "--------------------------\n",
      "\n",
      "Obteniendo gráficas de la clase: 7\n",
      "Graficas obtenidas, Tiempo total de ejecución: 0:29 minutos.\n",
      "--------------------------\n",
      "\n",
      "Obteniendo gráficas de la clase: 8\n",
      "Graficas obtenidas, Tiempo total de ejecución: 0:29 minutos.\n",
      "--------------------------\n",
      "\n",
      "Obteniendo gráficas de la clase: 9\n",
      "Graficas obtenidas, Tiempo total de ejecución: 0:30 minutos.\n",
      "--------------------------\n",
      "\n",
      "Obteniendo gráficas de la clase: 10\n",
      "Graficas obtenidas, Tiempo total de ejecución: 0:29 minutos.\n",
      "--------------------------\n",
      "\n",
      "Obteniendo gráficas de la clase: 11\n",
      "Graficas obtenidas, Tiempo total de ejecución: 0:30 minutos.\n",
      "--------------------------\n",
      "\n",
      "Obteniendo gráficas de la clase: 12\n",
      "Graficas obtenidas, Tiempo total de ejecución: 0:29 minutos.\n",
      "--------------------------\n",
      "\n",
      "Obteniendo gráficas de la clase: 13\n",
      "Graficas obtenidas, Tiempo total de ejecución: 0:29 minutos.\n",
      "--------------------------\n",
      "\n",
      "Obteniendo gráficas de la clase: 14\n",
      "Graficas obtenidas, Tiempo total de ejecución: 0:30 minutos.\n",
      "--------------------------\n",
      "\n",
      "Obteniendo gráficas de la clase: 15\n",
      "Graficas obtenidas, Tiempo total de ejecución: 0:30 minutos.\n",
      "--------------------------\n",
      "\n",
      "Obteniendo gráficas de la clase: 16\n",
      "Graficas obtenidas, Tiempo total de ejecución: 0:29 minutos.\n",
      "--------------------------\n",
      "\n",
      "Obteniendo gráficas de la clase: 17\n",
      "Graficas obtenidas, Tiempo total de ejecución: 0:30 minutos.\n",
      "--------------------------\n",
      "\n",
      "Obteniendo gráficas de la clase: 18\n",
      "Graficas obtenidas, Tiempo total de ejecución: 0:28 minutos.\n",
      "--------------------------\n",
      "\n",
      "Obteniendo gráficas de la clase: 19\n",
      "Graficas obtenidas, Tiempo total de ejecución: 0:28 minutos.\n",
      "--------------------------\n",
      "\n",
      "Obteniendo gráficas de la clase: 20\n",
      "Graficas obtenidas, Tiempo total de ejecución: 0:29 minutos.\n",
      "--------------------------\n",
      "\n",
      "Obteniendo gráficas de la clase: 21\n",
      "Graficas obtenidas, Tiempo total de ejecución: 0:31 minutos.\n",
      "--------------------------\n",
      "\n",
      "Obteniendo gráficas de la clase: 22\n",
      "Graficas obtenidas, Tiempo total de ejecución: 0:29 minutos.\n",
      "--------------------------\n",
      "\n",
      "Obteniendo gráficas de la clase: 23\n",
      "Graficas obtenidas, Tiempo total de ejecución: 0:28 minutos.\n",
      "--------------------------\n",
      "\n"
     ]
    }
   ],
   "source": [
    "for n, class_shap_values in enumerate(lst_shap_values[i]):\n",
    "    start_time = time.time()\n",
    "    print(f\"Obteniendo gráficas de la clase: {y_train_models[i].columns[n]}\")\n",
    "    for j in range(100):\n",
    "        # Seleccionar una fila de los valores SHAP\n",
    "        random_shap_values = class_shap_values[j, :]\n",
    "\n",
    "        # Crear una figura para cada clase\n",
    "        plt.figure(figsize = [15, 15], dpi = 150)\n",
    "\n",
    "        # Generar el bar_plot para la clase actual y el valor SHAP seleccionado\n",
    "        shap.bar_plot(\n",
    "            random_shap_values,\n",
    "            feature_names=x_test.columns,\n",
    "            max_display=25,\n",
    "            show=False  # Establecer en False para evitar que se muestre la trama en la ventana de salida\n",
    "        )\n",
    "\n",
    "        # Guardar cada gráfico en un archivo separado\n",
    "        output_folder = f\"F:/Universidad/Tesis/Codigo/Visualización de datos/SHAP_segundo_intento\"\n",
    "        if not os.path.exists(output_folder):\n",
    "            os.makedirs(output_folder)\n",
    "        plt.savefig(f\"{output_folder}/{type_plot}_{y_str[i]}_class_{y_train_models[i].columns[n]}_patient_{x_test['DIAGNOSTICO1'].index[j]}.png\")\n",
    "\n",
    "        # Cerrar la figura para liberar memoria\n",
    "        plt.close()\n",
    "\n",
    "    end_time = time.time()\n",
    "    celda_time = end_time - start_time\n",
    "    minutes, seconds = divmod(celda_time, 60)\n",
    "    print(f\"Graficas obtenidas, Tiempo total de ejecución: {int(minutes)}:{int(seconds)} minutos.\")\n",
    "    print(\"--------------------------\\n\")"
   ]
  },
  {
   "cell_type": "code",
   "execution_count": 8,
   "metadata": {},
   "outputs": [],
   "source": [
    "# for i in range(len(lst_model)):\n",
    "#     shap_function(i)\n",
    "\n",
    "# end_code = time.time()\n",
    "# f_time = end_code - start_code\n",
    "# td = datetime.timedelta(seconds = f_time)\n",
    "# dt = datetime.datetime(2023, 5, 1, 0, 0, 0)\n",
    "# dt_final = dt + td\n",
    "# hora_final = dt_final.strftime(\"%H:%M:%S\")\n",
    "\n",
    "# print(f\"Tiempo total de ejecución: {hora_final} Hrs.\")"
   ]
  }
 ],
 "metadata": {
  "kernelspec": {
   "display_name": "Python 3",
   "language": "python",
   "name": "python3"
  },
  "language_info": {
   "codemirror_mode": {
    "name": "ipython",
    "version": 3
   },
   "file_extension": ".py",
   "mimetype": "text/x-python",
   "name": "python",
   "nbconvert_exporter": "python",
   "pygments_lexer": "ipython3",
   "version": "3.10.10"
  },
  "orig_nbformat": 4
 },
 "nbformat": 4,
 "nbformat_minor": 2
}
