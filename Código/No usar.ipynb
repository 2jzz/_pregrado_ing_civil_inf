{
 "cells": [
  {
   "cell_type": "code",
   "execution_count": 1,
   "metadata": {},
   "outputs": [
    {
     "name": "stderr",
     "output_type": "stream",
     "text": [
      "c:\\Users\\Phine\\AppData\\Local\\Programs\\Python\\Python310\\lib\\site-packages\\tqdm\\auto.py:21: TqdmWarning: IProgress not found. Please update jupyter and ipywidgets. See https://ipywidgets.readthedocs.io/en/stable/user_install.html\n",
      "  from .autonotebook import tqdm as notebook_tqdm\n"
     ]
    }
   ],
   "source": [
    "import pandas as pd\n",
    "import numpy as np\n",
    "\n",
    "import os\n",
    "\n",
    "from sklearn.model_selection import train_test_split\n",
    "from keras.models import load_model\n",
    "\n",
    "import shap"
   ]
  },
  {
   "cell_type": "code",
   "execution_count": 2,
   "metadata": {},
   "outputs": [],
   "source": [
    "# Reading de los modelos.\n",
    "\n",
    "# Ruta donde están los modelos.\n",
    "\n",
    "model_CDM = load_model(filepath = \"../Versión 3 - actual/modelos/datasetCDM_2023_04_17_19_35\")\n",
    "\n",
    "model_GRD = load_model(filepath = \"../Versión 3 - actual/modelos/datasetGRD_2023_04_17_20_53\")\n",
    "\n",
    "model_GRDT = load_model(filepath = \"../Versión 3 - actual/modelos/datasetGRDT_2023_04_17_11_29\")\n",
    "\n",
    "model_SEV = load_model(filepath = \"../Versión 3 - actual/modelos/datasetSEV_2023_04_17_22_09\")"
   ]
  },
  {
   "cell_type": "code",
   "execution_count": 2,
   "metadata": {},
   "outputs": [],
   "source": [
    "x = pd.read_csv(\"../../../Datos/Procesados/x_values.csv\", dtype = int)\n",
    "y_cdm = pd.read_csv(\"../../../Datos/Procesados/y_dummies_cdm.csv\", dtype = int)\n",
    "y_grdt = pd.read_csv(\"../../../Datos/Procesados/y_dummies_grdtipo.csv\", dtype = int)\n",
    "y_grd = pd.read_csv(\"../../../Datos/Procesados/y_dummies_grd.csv\", dtype = int)\n",
    "y_sev = pd.read_csv(\"../../../Datos/Procesados/y_dummies_sev.csv\", dtype = int)"
   ]
  },
  {
   "cell_type": "code",
   "execution_count": 3,
   "metadata": {},
   "outputs": [],
   "source": [
    "lst_y = [y_cdm, y_grdt, y_grd, y_sev]\n",
    "lst_y_str = ['CDM', 'GRDT', 'GRD', 'SEV']\n",
    "# lst_model = [model_CDM, model_GRDT, model_GRD, model_SEV]"
   ]
  },
  {
   "cell_type": "code",
   "execution_count": 7,
   "metadata": {},
   "outputs": [],
   "source": [
    "def data_prep(i, size_sample):\n",
    "    x_train, x_test, y_train, y_test = train_test_split(x, lst_y[i], train_size = size_sample, test_size = size_sample, random_state = 0, stratify = lst_y[i])\n",
    "    \n",
    "    base_path = '../../../Datos/Procesados/split'\n",
    "    exists = os.path.exists(path=base_path)\n",
    "    if not exists:\n",
    "        os.makedirs(base_path)\n",
    "\n",
    "    x_train.to_csv(f'{base_path}/x_train_{lst_y_str[i]}')\n",
    "    x_test.to_csv(f'{base_path}/x_test_{lst_y_str[i]}')\n",
    "    y_train.to_csv(f'{base_path}/y_train_{lst_y_str[i]}')\n",
    "    y_test.to_csv(f'{base_path}/y_test_{lst_y_str[i]}')\n",
    "\n"
   ]
  },
  {
   "cell_type": "code",
   "execution_count": 6,
   "metadata": {},
   "outputs": [],
   "source": [
    "def shap_function(x_train, x_test, model, i, path_, model_name, size_sample): \n",
    "    # Función para predecir las probabilidades\n",
    "    def predict_proba(X):\n",
    "        return model.predict(X, verbose = False)\n",
    "\n",
    "    # Crear un objeto KernelExplainer de SHAP\n",
    "    background_data = shap.sample(x_train, 100)  # Usar una muestra del conjunto de entrenamiento como datos de fondo\n",
    "    explainer = shap.KernelExplainer(predict_proba, background_data)\n",
    "\n",
    "    # Calcular los valores SHAP para el conjunto de datos de prueba\n",
    "    shap_values = explainer.shap_values(x_test, nsamples=100)\n",
    "\n",
    "    # Convertir la lista shap_values_grd en una matriz numpy\n",
    "    shap_values_np = np.array(shap_values)\n",
    "\n",
    "    # Aplanar la matriz shap_values_grd_np a 2 dimensiones\n",
    "    shap_values_flat = np.reshape(shap_values_np, (shap_values_np.shape[0], -1))\n",
    "\n",
    "    # Convertir la matriz aplanada en un DataFrame de pandas\n",
    "    shap_values_df = pd.DataFrame(shap_values_flat)\n",
    "\n",
    "    isExists = os.path.exists(path=path_)\n",
    "    if not isExists:\n",
    "        os.makedirs(path_)\n",
    "\n",
    "    # Guardar el DataFrame en un archivo CSV\n",
    "    shap_values_df.to_csv(f\"{path_}/shap_values_{model_name}_datasize_{size_sample}.csv\", index=False)\n",
    "\n",
    "    # Guardar las dimensiones originales en un archivo de texto\n",
    "    with open(f\"{path_}/shap_values_{model_name}_dimensions.txt\", \"w\") as f:\n",
    "        f.write(\",\".join(map(str, shap_values_np.shape)))\n"
   ]
  },
  {
   "cell_type": "code",
   "execution_count": 8,
   "metadata": {},
   "outputs": [],
   "source": [
    "size_sample = 0.0005\n",
    "\n",
    "for i in range(len(lst_y)):\n",
    "# model_name = lst_y_str[3]\n",
    "    # path = f\"SHAP Datos/{lst_y_str[3]}\"\n",
    "    data_prep(i, size_sample)\n",
    "    # shap_function(x_train, x_test, lst_model[3], 3, path, model_name, size_sample)"
   ]
  }
 ],
 "metadata": {
  "kernelspec": {
   "display_name": "Python 3",
   "language": "python",
   "name": "python3"
  },
  "language_info": {
   "codemirror_mode": {
    "name": "ipython",
    "version": 3
   },
   "file_extension": ".py",
   "mimetype": "text/x-python",
   "name": "python",
   "nbconvert_exporter": "python",
   "pygments_lexer": "ipython3",
   "version": "3.10.10"
  },
  "orig_nbformat": 4
 },
 "nbformat": 4,
 "nbformat_minor": 2
}
